{
 "cells": [
  {
   "cell_type": "markdown",
   "id": "adec23ee",
   "metadata": {},
   "source": [
    "<div style=\"text-align: center;\">\n",
    "    <link rel=\"preconnect\" href=\"https://fonts.googleapis.com\">\n",
    "    <link rel=\"preconnect\" href=\"https://fonts.gstatic.com\" crossorigin>\n",
    "    <link href=\"https://fonts.googleapis.com/css2?family=Faculty+Glyphic&display=swap\" rel=\"stylesheet\">\n",
    "    <span style=\"color: #006FAF; font-size: 20px;\">\n",
    "        <u><strong><em><h2 style=\"font-family: 'Faculty Glyphic', sans-serif;\">EJERCICIOS</h2></em></strong></u>\n",
    "    </span>\n",
    "</div>"
   ]
  },
  {
   "cell_type": "markdown",
   "id": "16f7232c",
   "metadata": {},
   "source": [
    "<div style=\"text-align: center;\">\n",
    "    <link rel=\"preconnect\" href=\"https://fonts.googleapis.com\">\n",
    "    <link rel=\"preconnect\" href=\"https://fonts.gstatic.com\" crossorigin>\n",
    "    <link href=\"https://fonts.googleapis.com/css2?family=Faculty+Glyphic&display=swap\" rel=\"stylesheet\">\n",
    "    <span style=\"color:rgb(0, 0, 0); font-size: 15px;\">\n",
    "        <h2 style=\"font-family: 'Faculty Glyphic', sans-serif;\">Ejercicio 01</h2>\n",
    "    </span>\n",
    "</div>"
   ]
  },
  {
   "cell_type": "markdown",
   "id": "34a0e322",
   "metadata": {},
   "source": [
    "* Crear un array Crear un array 7x8 lleno de ceros de tipo entero.\n",
    "* Crear un array 7x8 lleno de ceros salvo la primera fila que serán todo unos.\n",
    "* Crear un array 7x8 lleno de ceros salvo la última fila que será el rango entre 5 y 8."
   ]
  },
  {
   "cell_type": "code",
   "execution_count": 7,
   "id": "da1ca4e6",
   "metadata": {},
   "outputs": [
    {
     "name": "stdout",
     "output_type": "stream",
     "text": [
      "[[0 0 0 0 0 0 0 0]\n",
      " [0 0 0 0 0 0 0 0]\n",
      " [0 0 0 0 0 0 0 0]\n",
      " [0 0 0 0 0 0 0 0]\n",
      " [0 0 0 0 0 0 0 0]\n",
      " [0 0 0 0 0 0 0 0]\n",
      " [0 0 0 0 0 0 0 0]]\n"
     ]
    }
   ],
   "source": [
    "import numpy as np\n",
    "# a) Array 7x8 lleno de ceros\n",
    "array_zeros = np.zeros((7, 8), dtype=int)\n",
    "\n",
    "print(array_zeros)\n",
    "\n"
   ]
  },
  {
   "cell_type": "code",
   "execution_count": 4,
   "id": "a51be9e2",
   "metadata": {},
   "outputs": [
    {
     "name": "stdout",
     "output_type": "stream",
     "text": [
      "[[1 1 1 1 1 1 1 1]\n",
      " [0 0 0 0 0 0 0 0]\n",
      " [0 0 0 0 0 0 0 0]\n",
      " [0 0 0 0 0 0 0 0]\n",
      " [0 0 0 0 0 0 0 0]\n",
      " [0 0 0 0 0 0 0 0]\n",
      " [0 0 0 0 0 0 0 0]]\n"
     ]
    }
   ],
   "source": [
    "# b) Array 7x8, primera fila de unos\n",
    "array_primera_fila_unos = np.zeros((7, 8), dtype=int)\n",
    "array_primera_fila_unos[0, :] = 1\n",
    "print(array_primera_fila_unos)\n"
   ]
  },
  {
   "cell_type": "code",
   "execution_count": 5,
   "id": "258f8dd3",
   "metadata": {},
   "outputs": [
    {
     "name": "stdout",
     "output_type": "stream",
     "text": [
      "[[0 0 0 0 0 0 0 0]\n",
      " [0 0 0 0 0 0 0 0]\n",
      " [0 0 0 0 0 0 0 0]\n",
      " [0 0 0 0 0 0 0 0]\n",
      " [0 0 0 0 0 0 0 0]\n",
      " [0 0 0 0 0 0 0 0]\n",
      " [5 6 7 8 0 0 0 0]]\n"
     ]
    }
   ],
   "source": [
    "# c) Array 7x8, última fila con rango 5 a 8\n",
    "array_ultima_fila_rango = np.zeros((7, 8), dtype=int)\n",
    "array_ultima_fila_rango[-1, :4] = np.arange(5, 9)\n",
    "\n",
    "print(array_ultima_fila_rango)\n"
   ]
  },
  {
   "cell_type": "markdown",
   "id": "b60e5e1d",
   "metadata": {
    "vscode": {
     "languageId": "plaintext"
    }
   },
   "source": [
    "<div style=\"text-align: center;\">\n",
    "    <link rel=\"preconnect\" href=\"https://fonts.googleapis.com\">\n",
    "    <link rel=\"preconnect\" href=\"https://fonts.gstatic.com\" crossorigin>\n",
    "    <link href=\"https://fonts.googleapis.com/css2?family=Faculty+Glyphic&display=swap\" rel=\"stylesheet\">\n",
    "    <span style=\"color:rgb(0, 0, 0); font-size: 15px;\">\n",
    "        <h2 style=\"font-family: 'Faculty Glyphic', sans-serif;\">Ejercicio 02</h2>\n",
    "    </span>\n",
    "</div>"
   ]
  },
  {
   "cell_type": "markdown",
   "id": "5fd65407",
   "metadata": {},
   "source": [
    "* Crea un vector de 10 elementos, siendo los impares 1 y los pares 2.\n",
    "* Crea un «tablero de ajedrez» 8x8, con 1 en las casillas negras y 0 en las casillas\n",
    "blancas."
   ]
  },
  {
   "cell_type": "code",
   "execution_count": 10,
   "id": "ca7f6812",
   "metadata": {},
   "outputs": [
    {
     "name": "stdout",
     "output_type": "stream",
     "text": [
      "[1 2 1 2 1 2 1 2 1 2]\n"
     ]
    }
   ],
   "source": [
    "#Crea un vector de 10 elementos, siendo los impares 1 y los pares 2.\n",
    "vector_10 = np.array([1 if i % 2 != 0 else 2 for i in range(1, 11)])\n",
    "\n",
    "print(vector_10)"
   ]
  },
  {
   "cell_type": "code",
   "execution_count": 11,
   "id": "d10da07c",
   "metadata": {},
   "outputs": [
    {
     "name": "stdout",
     "output_type": "stream",
     "text": [
      "[[0 1 0 1 0 1 0 1]\n",
      " [1 0 1 0 1 0 1 0]\n",
      " [0 1 0 1 0 1 0 1]\n",
      " [1 0 1 0 1 0 1 0]\n",
      " [0 1 0 1 0 1 0 1]\n",
      " [1 0 1 0 1 0 1 0]\n",
      " [0 1 0 1 0 1 0 1]\n",
      " [1 0 1 0 1 0 1 0]]\n"
     ]
    }
   ],
   "source": [
    "#Crea un «tablero de ajedrez» 8x8, con 1 en las casillas negras y 0 en las casillas blancas.\n",
    "tablero_ajedrez = np.zeros((8, 8), dtype=int)\n",
    "tablero_ajedrez[1::2, ::2] = 1\n",
    "tablero_ajedrez[::2, 1::2] = 1\n",
    "print(tablero_ajedrez)"
   ]
  },
  {
   "cell_type": "markdown",
   "id": "2346fa43",
   "metadata": {},
   "source": [
    "<div style=\"text-align: center;\">\n",
    "    <link rel=\"preconnect\" href=\"https://fonts.googleapis.com\">\n",
    "    <link rel=\"preconnect\" href=\"https://fonts.gstatic.com\" crossorigin>\n",
    "    <link href=\"https://fonts.googleapis.com/css2?family=Faculty+Glyphic&display=swap\" rel=\"stylesheet\">\n",
    "    <span style=\"color:rgb(0, 0, 0); font-size: 15px;\">\n",
    "        <h2 style=\"font-family: 'Faculty Glyphic', sans-serif;\">Ejercicio 03</h2>\n",
    "    </span>\n",
    "</div>"
   ]
  },
  {
   "cell_type": "markdown",
   "id": "9fe47df6",
   "metadata": {},
   "source": [
    "* Crea una matriz aleatoria 7x7 y halla los valores mínimo y máximo.\n",
    "* Normaliza la matriz anterior entre 0 y 1."
   ]
  },
  {
   "cell_type": "code",
   "execution_count": 12,
   "id": "95472eea",
   "metadata": {},
   "outputs": [
    {
     "name": "stdout",
     "output_type": "stream",
     "text": [
      "[[0.85460767 0.21083257 0.78658665 0.283285   0.73571304 0.82710694\n",
      "  0.83259458]\n",
      " [0.40754086 0.93758353 0.66531443 0.46937542 0.95944864 0.3588777\n",
      "  0.62521797]\n",
      " [0.81449399 0.45530572 0.44577024 0.56204972 0.56671623 0.54552092\n",
      "  0.04622224]\n",
      " [0.47396244 0.27296296 0.38145006 0.87423972 0.88333652 0.35367211\n",
      "  0.35535628]\n",
      " [0.69319986 0.55125128 0.92371307 0.84621278 0.31242639 0.76187268\n",
      "  0.92527941]\n",
      " [0.45816409 0.94455372 0.55274368 0.10649969 0.10269521 0.21740598\n",
      "  0.14681374]\n",
      " [0.661159   0.26588734 0.0820243  0.05493156 0.98467862 0.60224673\n",
      "  0.11058103]]\n"
     ]
    }
   ],
   "source": [
    "# Matriz aleatoria 7x7\n",
    "matriz_random = np.random.rand(7, 7)\n",
    "valor_min = np.min(matriz_random)\n",
    "valor_max = np.max(matriz_random)\n",
    "print(matriz_random)"
   ]
  },
  {
   "cell_type": "code",
   "execution_count": 13,
   "id": "575576f8",
   "metadata": {},
   "outputs": [
    {
     "name": "stdout",
     "output_type": "stream",
     "text": [
      "[[0.86139905 0.17540542 0.78891723 0.25260925 0.73470735 0.83209483\n",
      "  0.83794235]\n",
      " [0.38501376 0.94981643 0.65969203 0.45090341 0.97311544 0.33315929\n",
      "  0.61696606]\n",
      " [0.81865473 0.43591102 0.42575022 0.54965525 0.55462779 0.5320425\n",
      "  0.        ]\n",
      " [0.45579125 0.24161029 0.35721194 0.88231856 0.89201192 0.32761232\n",
      "  0.32940694]\n",
      " [0.68940617 0.53814866 0.93503635 0.85245362 0.28366172 0.76258253\n",
      "  0.93670541]\n",
      " [0.43895685 0.95724373 0.53973893 0.06423043 0.06017645 0.18240991\n",
      "  0.10718825]\n",
      " [0.65526408 0.23407066 0.03814995 0.00928048 1.         0.59248837\n",
      "  0.06857942]]\n"
     ]
    }
   ],
   "source": [
    "#Matriz normalizada\n",
    "matriz_normalizada = (matriz_random - valor_min) / (valor_max - valor_min)\n",
    "print(matriz_normalizada)"
   ]
  },
  {
   "cell_type": "markdown",
   "id": "9fab1ceb",
   "metadata": {},
   "source": [
    "<div style=\"text-align: center;\">\n",
    "    <link rel=\"preconnect\" href=\"https://fonts.googleapis.com\">\n",
    "    <link rel=\"preconnect\" href=\"https://fonts.gstatic.com\" crossorigin>\n",
    "    <link href=\"https://fonts.googleapis.com/css2?family=Faculty+Glyphic&display=swap\" rel=\"stylesheet\">\n",
    "    <span style=\"color:rgb(0, 0, 0); font-size: 15px;\">\n",
    "        <h2 style=\"font-family: 'Faculty Glyphic', sans-serif;\">Ejercicio 04</h2>\n",
    "    </span>\n",
    "</div>"
   ]
  },
  {
   "cell_type": "markdown",
   "id": "8ea5d44a",
   "metadata": {},
   "source": [
    "De la siguiente matriz"
   ]
  },
  {
   "cell_type": "markdown",
   "id": "19f3ae9b",
   "metadata": {},
   "source": [
    "<div style=\"text-align: center;\">\n",
    "    <img src=\"https://user-images.githubusercontent.com/19308295/115969506-dbbc4b00-a502-11eb-9c76-c9da265c5366.png\" style=\"width:300px;\">\n",
    "</div>\n",
    "\n"
   ]
  },
  {
   "cell_type": "markdown",
   "id": "f6863e54",
   "metadata": {
    "vscode": {
     "languageId": "plaintext"
    }
   },
   "source": [
    "Invertir los valores de 9 y 1."
   ]
  },
  {
   "cell_type": "code",
   "execution_count": 15,
   "id": "638ff507",
   "metadata": {},
   "outputs": [
    {
     "name": "stdout",
     "output_type": "stream",
     "text": [
      "[[9 9 9 9 9]\n",
      " [9 0 0 0 9]\n",
      " [9 0 1 0 9]\n",
      " [9 0 0 0 9]\n",
      " [9 9 9 9 9]]\n"
     ]
    }
   ],
   "source": [
    "matriz = np.array([\n",
    "    [1, 1, 1, 1, 1],\n",
    "    [1, 0, 0, 0, 1],\n",
    "    [1, 0, 9, 0, 1],\n",
    "    [1, 0, 0, 0, 1],\n",
    "    [1, 1, 1, 1, 1]\n",
    "])\n",
    "\n",
    "# Invertimos\n",
    "matriz_invertida = matriz.copy()\n",
    "matriz_invertida[matriz == 1] = -1  # Marcamos los 1 como -1 temporalmente\n",
    "matriz_invertida[matriz == 9] = 1   # Reemplazamos 9 por 1\n",
    "matriz_invertida[matriz_invertida == -1] = 9  # Finalmente los -1 los volvemos 9\n",
    "print(matriz_invertida)"
   ]
  },
  {
   "cell_type": "markdown",
   "id": "e7daa4ae",
   "metadata": {},
   "source": [
    "<div style=\"text-align: center;\">\n",
    "    <link rel=\"preconnect\" href=\"https://fonts.googleapis.com\">\n",
    "    <link rel=\"preconnect\" href=\"https://fonts.gstatic.com\" crossorigin>\n",
    "    <link href=\"https://fonts.googleapis.com/css2?family=Faculty+Glyphic&display=swap\" rel=\"stylesheet\">\n",
    "    <span style=\"color:rgb(0, 0, 0); font-size: 15px;\">\n",
    "        <h2 style=\"font-family: 'Faculty Glyphic', sans-serif;\">Ejercicio 05</h2>\n",
    "    </span>\n",
    "</div>"
   ]
  },
  {
   "cell_type": "markdown",
   "id": "3edb7648",
   "metadata": {},
   "source": [
    "De la siguiente matriz:"
   ]
  },
  {
   "cell_type": "markdown",
   "id": "daede26e",
   "metadata": {},
   "source": [
    "<div style=\"text-align: center;\">\n",
    "    <img src=\"https://user-images.githubusercontent.com/19308295/115969585-39509780-a503-11eb-92ac-fd88557e6cfc.png\"\n",
    "style=\"width:300px\"></img>\n",
    "</div>"
   ]
  },
  {
   "cell_type": "markdown",
   "id": "703d52fd",
   "metadata": {},
   "source": [
    "Extraer las matrices de cada color"
   ]
  },
  {
   "cell_type": "code",
   "execution_count": 18,
   "id": "70fbdb88",
   "metadata": {},
   "outputs": [
    {
     "name": "stdout",
     "output_type": "stream",
     "text": [
      "[[ 2  3  4]\n",
      " [ 7  8  9]\n",
      " [12 13 14]]\n"
     ]
    }
   ],
   "source": [
    "matriz_colores = np.arange(1, 31).reshape((6, 5))\n",
    "\n",
    "# Verde (matriz 3x3 desde (0,1) a (2,3))\n",
    "verde = matriz_colores[0:3, 1:4]\n",
    "\n",
    "print(verde)"
   ]
  },
  {
   "cell_type": "code",
   "execution_count": 19,
   "id": "972807ac",
   "metadata": {},
   "outputs": [
    {
     "name": "stdout",
     "output_type": "stream",
     "text": [
      "[[11 12 13]\n",
      " [16 17 18]]\n"
     ]
    }
   ],
   "source": [
    "# Azul (matriz 2x3 desde (2,0) a (3,2))\n",
    "azul = matriz_colores[2:4, 0:3]\n",
    "print(azul)"
   ]
  },
  {
   "cell_type": "code",
   "execution_count": 20,
   "id": "b6148ded",
   "metadata": {},
   "outputs": [
    {
     "name": "stdout",
     "output_type": "stream",
     "text": [
      "[[ 4  5]\n",
      " [ 9 10]]\n",
      "[[24 25]\n",
      " [29 30]]\n"
     ]
    }
   ],
   "source": [
    "# Rojo (tres regiones 2x2)\n",
    "rojo_1 = matriz_colores[0:2, 3:5]\n",
    "rojo_2 = matriz_colores[4:6, 3:5]\n",
    "print(rojo_1)\n",
    "print(rojo_2)"
   ]
  },
  {
   "cell_type": "markdown",
   "id": "96a8df9c",
   "metadata": {},
   "source": [
    "<div style=\"text-align: center;\">\n",
    "    <link rel=\"preconnect\" href=\"https://fonts.googleapis.com\">\n",
    "    <link rel=\"preconnect\" href=\"https://fonts.gstatic.com\" crossorigin>\n",
    "    <link href=\"https://fonts.googleapis.com/css2?family=Faculty+Glyphic&display=swap\" rel=\"stylesheet\">\n",
    "    <span style=\"color:rgb(0, 0, 0); font-size: 15px;\">\n",
    "        <h2 style=\"font-family: 'Faculty Glyphic', sans-serif;\">Ejercicio 06</h2>\n",
    "    </span>\n",
    "</div>"
   ]
  },
  {
   "cell_type": "markdown",
   "id": "2a2edf53",
   "metadata": {},
   "source": [
    "De la siguiente Matriz:"
   ]
  },
  {
   "cell_type": "markdown",
   "id": "5f54ff47",
   "metadata": {},
   "source": [
    "<div style=\"text-align: center;\">\n",
    "    <img src=\"https://user-images.githubusercontent.com/19308295/115969622-613ffb00-a503-11eb-98b8-7edcf70c5851.png\"\n",
    "    style=\"width:300px\"></img>\n",
    "</DIV>"
   ]
  },
  {
   "cell_type": "markdown",
   "id": "973d923f",
   "metadata": {},
   "source": [
    "Se debe **buscar dentro de la matriz de color verde el valor = 50**, luego reemplazar con la pequeña matriz de color celeste quedando la matriz de la siguiente manera:"
   ]
  },
  {
   "cell_type": "markdown",
   "id": "6fb96aa2",
   "metadata": {},
   "source": [
    "<div style=\"text-align: center;\">\n",
    "    <img src=\"https://user-images.githubusercontent.com/19308295/115969624-656c1880-a503-11eb-9a48-7dba0c379f86.png\"\n",
    "    style=\"width:300px\"></img>\n",
    "</div>"
   ]
  },
  {
   "cell_type": "markdown",
   "id": "d8853e03",
   "metadata": {},
   "source": [
    "El algoritmo solución debe poder **ubicar el valor = 50** en cualquier posición y hacer el reemplazo.\n"
   ]
  },
  {
   "cell_type": "code",
   "execution_count": 21,
   "id": "490d756f",
   "metadata": {},
   "outputs": [
    {
     "name": "stdout",
     "output_type": "stream",
     "text": [
      "[[  0   0   0  16  24  99]\n",
      " [  0 255   0  15  56  88]\n",
      " [  0   0   0  26  87  70]\n",
      " [120 100  45   0   0   0]\n",
      " [ 45 225  35   0 255   0]\n",
      " [ 36 255  24   0   0   0]]\n"
     ]
    }
   ],
   "source": [
    "# Matriz verde original\n",
    "matriz = np.array([\n",
    "    [255, 34, 45, 16, 24, 99],\n",
    "    [200, 50, 67, 15, 56, 88],\n",
    "    [165, 67, 34, 26, 87, 70],\n",
    "    [120, 100, 45, 56, 56, 67],\n",
    "    [45, 225, 35, 67, 50, 44],\n",
    "    [36, 255, 24, 78, 77, 23]\n",
    "])\n",
    "\n",
    "# Plantilla de reemplazo (celeste)\n",
    "celeste = np.array([\n",
    "    [0, 0, 0],\n",
    "    [0, 255, 0],\n",
    "    [0, 0, 0]\n",
    "])\n",
    "\n",
    "# Función para reemplazar\n",
    "def reemplazar_valor(matriz, valor, reemplazo):\n",
    "    m, n = matriz.shape\n",
    "    rm, rn = reemplazo.shape\n",
    "    for i in range(1, m-1):\n",
    "        for j in range(1, n-1):\n",
    "            if matriz[i, j] == valor:\n",
    "                matriz[i-1:i+2, j-1:j+2] = reemplazo\n",
    "    return matriz\n",
    "\n",
    "# Aplicamos reemplazo para valor = 50\n",
    "matriz_modificada = matriz.copy()\n",
    "matriz_modificada = reemplazar_valor(matriz_modificada, 50, celeste)\n",
    "print(matriz_modificada)"
   ]
  },
  {
   "cell_type": "code",
   "execution_count": null,
   "id": "05cdecdf",
   "metadata": {},
   "outputs": [],
   "source": []
  }
 ],
 "metadata": {
  "kernelspec": {
   "display_name": "Python 3",
   "language": "python",
   "name": "python3"
  },
  "language_info": {
   "codemirror_mode": {
    "name": "ipython",
    "version": 3
   },
   "file_extension": ".py",
   "mimetype": "text/x-python",
   "name": "python",
   "nbconvert_exporter": "python",
   "pygments_lexer": "ipython3",
   "version": "3.13.2"
  }
 },
 "nbformat": 4,
 "nbformat_minor": 5
}
